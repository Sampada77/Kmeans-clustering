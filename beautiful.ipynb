{
 "cells": [
  {
   "cell_type": "code",
   "execution_count": 71,
   "id": "a62f32b5-e323-47d3-9d78-c526890bf13a",
   "metadata": {},
   "outputs": [],
   "source": [
    "from  matplotlib import pylab\n",
    "import numpy as np\n",
    "import matplotlib.pyplot as plt\n",
    "import pandas as pd\n",
    "%matplotlib inline\n",
    "\n",
    "from urllib.request import urlopen\n",
    "from bs4 import BeautifulSoup\n",
    "import re"
   ]
  },
  {
   "cell_type": "code",
   "execution_count": 9,
   "id": "c25fc2a7-1085-4c5b-91f6-b3fa974dc227",
   "metadata": {},
   "outputs": [],
   "source": [
    "url=\"https://www.hubertiming.com/results/2018MLK\"\n",
    "html=urlopen(url)"
   ]
  },
  {
   "cell_type": "code",
   "execution_count": 10,
   "id": "8383cae1-6aba-42f7-a9b2-932c2d0e473d",
   "metadata": {},
   "outputs": [],
   "source": [
    "soup=BeautifulSoup(html)"
   ]
  },
  {
   "cell_type": "code",
   "execution_count": 12,
   "id": "dc04bd88-076a-4a26-a618-f9eae0e22692",
   "metadata": {},
   "outputs": [
    {
     "name": "stdout",
     "output_type": "stream",
     "text": [
      "Race results for the 2018 MLK Dream Run!\n"
     ]
    }
   ],
   "source": [
    "title=soup.title\n",
    "print(title.text)"
   ]
  },
  {
   "cell_type": "code",
   "execution_count": 15,
   "id": "8965340e-a8b3-4819-965f-e3c0eb108e18",
   "metadata": {},
   "outputs": [
    {
     "name": "stdout",
     "output_type": "stream",
     "text": [
      "https://www.mlkdreamrun.com/\n",
      "mailto:timing@hubertiming.com\n",
      "https://www.hubertiming.com\n",
      "/results/2018MLK10K\n",
      "/results/2018MLK15K\n",
      "/results/summary/2018MLK\n",
      "#tabs-1\n",
      "https://www.hubertiming.com/\n",
      "https://facebook.com/hubertiming/\n"
     ]
    }
   ],
   "source": [
    "links=soup.find_all('a',href=True)\n",
    "for link in links:\n",
    "    print(link['href'])"
   ]
  },
  {
   "cell_type": "code",
   "execution_count": 26,
   "id": "d1b3388d-6556-432b-9910-1d35e6feac8c",
   "metadata": {},
   "outputs": [],
   "source": [
    "data=[]\n",
    "rows=soup.find_all(\"tr\")\n",
    "for row in rows:\n",
    "    row_list=row.find_all(\"td\")\n",
    "    dataRow=[]\n",
    "    for cell in row_list:\n",
    "        dataRow.append(cell.text)\n",
    "    data.append(dataRow)\n",
    "    \n",
    "\n",
    "# print(data[1:])\n"
   ]
  },
  {
   "cell_type": "code",
   "execution_count": 45,
   "id": "8749ce8f-c532-44a2-9bd0-8ba0b9b826c3",
   "metadata": {},
   "outputs": [
    {
     "name": "stdout",
     "output_type": "stream",
     "text": [
      "           0     1     2     3     4     5     6     7     8     9     10  \\\n",
      "0        None  None  None  None  None  None  None  None  None  None  None   \n",
      "1  Finishers:   191  None  None  None  None  None  None  None  None  None   \n",
      "2       Male:    78  None  None  None  None  None  None  None  None  None   \n",
      "3     Female:   113  None  None  None  None  None  None  None  None  None   \n",
      "4        None  None  None  None  None  None  None  None  None  None  None   \n",
      "\n",
      "     11    12    13  \n",
      "0  None  None  None  \n",
      "1  None  None  None  \n",
      "2  None  None  None  \n",
      "3  None  None  None  \n",
      "4  None  None  None  \n"
     ]
    }
   ],
   "source": [
    "df=pd.DataFrame(data)\n",
    "# print(data)\n",
    "print(df.head())"
   ]
  },
  {
   "cell_type": "code",
   "execution_count": 48,
   "id": "9b5e434b-4fd0-4389-82b4-cb8769802df6",
   "metadata": {},
   "outputs": [
    {
     "name": "stdout",
     "output_type": "stream",
     "text": [
      "['Place', 'Bib', 'Name', 'Gender', 'Age', 'City', 'State', 'Chip Pace', 'Chip Time', 'Gender Place', 'Age Group', 'Age Group Place', 'Time to Start', 'Gun Time']\n"
     ]
    }
   ],
   "source": [
    "headersL=[]\n",
    "headers=soup.find_all('th')\n",
    "for col in headers:\n",
    "    headersL.append(col.text)\n",
    "print(headersL)"
   ]
  },
  {
   "cell_type": "code",
   "execution_count": 50,
   "id": "e9108a73-44d3-4c81-8ef9-6834a5570830",
   "metadata": {},
   "outputs": [
    {
     "name": "stdout",
     "output_type": "stream",
     "text": [
      "        Place   Bib  Name Gender   Age  City State Chip Pace Chip Time  \\\n",
      "0        None  None  None   None  None  None  None      None      None   \n",
      "1  Finishers:   191  None   None  None  None  None      None      None   \n",
      "2       Male:    78  None   None  None  None  None      None      None   \n",
      "3     Female:   113  None   None  None  None  None      None      None   \n",
      "4        None  None  None   None  None  None  None      None      None   \n",
      "\n",
      "  Gender Place Age Group Age Group Place Time to Start Gun Time  \n",
      "0         None      None            None          None     None  \n",
      "1         None      None            None          None     None  \n",
      "2         None      None            None          None     None  \n",
      "3         None      None            None          None     None  \n",
      "4         None      None            None          None     None  \n"
     ]
    }
   ],
   "source": [
    "df.columns=headersL\n",
    "print(df.head())"
   ]
  },
  {
   "cell_type": "code",
   "execution_count": 51,
   "id": "5101d2a0-792a-4cf5-a82f-e50c831602e3",
   "metadata": {},
   "outputs": [
    {
     "data": {
      "text/html": [
       "<div>\n",
       "<style scoped>\n",
       "    .dataframe tbody tr th:only-of-type {\n",
       "        vertical-align: middle;\n",
       "    }\n",
       "\n",
       "    .dataframe tbody tr th {\n",
       "        vertical-align: top;\n",
       "    }\n",
       "\n",
       "    .dataframe thead th {\n",
       "        text-align: right;\n",
       "    }\n",
       "</style>\n",
       "<table border=\"1\" class=\"dataframe\">\n",
       "  <thead>\n",
       "    <tr style=\"text-align: right;\">\n",
       "      <th></th>\n",
       "      <th>Place</th>\n",
       "      <th>Bib</th>\n",
       "      <th>Name</th>\n",
       "      <th>Gender</th>\n",
       "      <th>Age</th>\n",
       "      <th>City</th>\n",
       "      <th>State</th>\n",
       "      <th>Chip Pace</th>\n",
       "      <th>Chip Time</th>\n",
       "      <th>Gender Place</th>\n",
       "      <th>Age Group</th>\n",
       "      <th>Age Group Place</th>\n",
       "      <th>Time to Start</th>\n",
       "      <th>Gun Time</th>\n",
       "    </tr>\n",
       "  </thead>\n",
       "  <tbody>\n",
       "    <tr>\n",
       "      <th>5</th>\n",
       "      <td>1</td>\n",
       "      <td>1191</td>\n",
       "      <td>\\r\\n\\r\\n                    MAX RANDOLPH\\r\\n\\r...</td>\n",
       "      <td>M</td>\n",
       "      <td>29</td>\n",
       "      <td>WASHINGTON</td>\n",
       "      <td>DC</td>\n",
       "      <td>5:25</td>\n",
       "      <td>16:48</td>\n",
       "      <td>\\r\\n\\r\\n                    1 of 78\\r\\n\\r\\n   ...</td>\n",
       "      <td>M 21-39</td>\n",
       "      <td>\\r\\n\\r\\n                    1 of 33\\r\\n\\r\\n   ...</td>\n",
       "      <td>0:08</td>\n",
       "      <td>16:56</td>\n",
       "    </tr>\n",
       "    <tr>\n",
       "      <th>6</th>\n",
       "      <td>2</td>\n",
       "      <td>1080</td>\n",
       "      <td>\\r\\n\\r\\n                    NEED NAME KAISER R...</td>\n",
       "      <td>M</td>\n",
       "      <td>25</td>\n",
       "      <td>PORTLAND</td>\n",
       "      <td>OR</td>\n",
       "      <td>5:39</td>\n",
       "      <td>17:31</td>\n",
       "      <td>\\r\\n\\r\\n                    2 of 78\\r\\n\\r\\n   ...</td>\n",
       "      <td>M 21-39</td>\n",
       "      <td>\\r\\n\\r\\n                    2 of 33\\r\\n\\r\\n   ...</td>\n",
       "      <td>0:09</td>\n",
       "      <td>17:40</td>\n",
       "    </tr>\n",
       "    <tr>\n",
       "      <th>7</th>\n",
       "      <td>3</td>\n",
       "      <td>1275</td>\n",
       "      <td>\\r\\n\\r\\n                    DAN FRANEK\\r\\n\\r\\n...</td>\n",
       "      <td>M</td>\n",
       "      <td>52</td>\n",
       "      <td>PORTLAND</td>\n",
       "      <td>OR</td>\n",
       "      <td>5:53</td>\n",
       "      <td>18:15</td>\n",
       "      <td>\\r\\n\\r\\n                    3 of 78\\r\\n\\r\\n   ...</td>\n",
       "      <td>M 40-54</td>\n",
       "      <td>\\r\\n\\r\\n                    1 of 27\\r\\n\\r\\n   ...</td>\n",
       "      <td>0:07</td>\n",
       "      <td>18:22</td>\n",
       "    </tr>\n",
       "    <tr>\n",
       "      <th>8</th>\n",
       "      <td>4</td>\n",
       "      <td>1223</td>\n",
       "      <td>\\r\\n\\r\\n                    PAUL TAYLOR\\r\\n\\r\\...</td>\n",
       "      <td>M</td>\n",
       "      <td>54</td>\n",
       "      <td>PORTLAND</td>\n",
       "      <td>OR</td>\n",
       "      <td>5:58</td>\n",
       "      <td>18:31</td>\n",
       "      <td>\\r\\n\\r\\n                    4 of 78\\r\\n\\r\\n   ...</td>\n",
       "      <td>M 40-54</td>\n",
       "      <td>\\r\\n\\r\\n                    2 of 27\\r\\n\\r\\n   ...</td>\n",
       "      <td>0:07</td>\n",
       "      <td>18:38</td>\n",
       "    </tr>\n",
       "    <tr>\n",
       "      <th>9</th>\n",
       "      <td>5</td>\n",
       "      <td>1245</td>\n",
       "      <td>\\r\\n\\r\\n                    THEO KINMAN\\r\\n\\r\\...</td>\n",
       "      <td>M</td>\n",
       "      <td>22</td>\n",
       "      <td></td>\n",
       "      <td></td>\n",
       "      <td>6:17</td>\n",
       "      <td>19:31</td>\n",
       "      <td>\\r\\n\\r\\n                    5 of 78\\r\\n\\r\\n   ...</td>\n",
       "      <td>M 21-39</td>\n",
       "      <td>\\r\\n\\r\\n                    3 of 33\\r\\n\\r\\n   ...</td>\n",
       "      <td>0:09</td>\n",
       "      <td>19:40</td>\n",
       "    </tr>\n",
       "    <tr>\n",
       "      <th>...</th>\n",
       "      <td>...</td>\n",
       "      <td>...</td>\n",
       "      <td>...</td>\n",
       "      <td>...</td>\n",
       "      <td>...</td>\n",
       "      <td>...</td>\n",
       "      <td>...</td>\n",
       "      <td>...</td>\n",
       "      <td>...</td>\n",
       "      <td>...</td>\n",
       "      <td>...</td>\n",
       "      <td>...</td>\n",
       "      <td>...</td>\n",
       "      <td>...</td>\n",
       "    </tr>\n",
       "    <tr>\n",
       "      <th>191</th>\n",
       "      <td>187</td>\n",
       "      <td>1254</td>\n",
       "      <td>\\r\\n\\r\\n                    CYNTHIA HARRIS\\r\\n...</td>\n",
       "      <td>F</td>\n",
       "      <td>64</td>\n",
       "      <td>PORTLAND</td>\n",
       "      <td>OR</td>\n",
       "      <td>21:53</td>\n",
       "      <td>1:07:51</td>\n",
       "      <td>\\r\\n\\r\\n                    110 of 113\\r\\n\\r\\n...</td>\n",
       "      <td>F 55+</td>\n",
       "      <td>\\r\\n\\r\\n                    14 of 14\\r\\n\\r\\n  ...</td>\n",
       "      <td>1:19</td>\n",
       "      <td>1:09:10</td>\n",
       "    </tr>\n",
       "    <tr>\n",
       "      <th>192</th>\n",
       "      <td>188</td>\n",
       "      <td>1085</td>\n",
       "      <td>\\r\\n\\r\\n                    EBONY LAWRENCE\\r\\n...</td>\n",
       "      <td>F</td>\n",
       "      <td>30</td>\n",
       "      <td>PORTLAND</td>\n",
       "      <td>OR</td>\n",
       "      <td>22:00</td>\n",
       "      <td>1:08:12</td>\n",
       "      <td>\\r\\n\\r\\n                    111 of 113\\r\\n\\r\\n...</td>\n",
       "      <td>F 21-39</td>\n",
       "      <td>\\r\\n\\r\\n                    53 of 53\\r\\n\\r\\n  ...</td>\n",
       "      <td>0:58</td>\n",
       "      <td>1:09:10</td>\n",
       "    </tr>\n",
       "    <tr>\n",
       "      <th>193</th>\n",
       "      <td>189</td>\n",
       "      <td>1170</td>\n",
       "      <td>\\r\\n\\r\\n                    ANTHONY WILLIAMS\\r...</td>\n",
       "      <td>M</td>\n",
       "      <td>39</td>\n",
       "      <td>PORTLAND</td>\n",
       "      <td>OR</td>\n",
       "      <td>22:19</td>\n",
       "      <td>1:09:11</td>\n",
       "      <td>\\r\\n\\r\\n                    78 of 78\\r\\n\\r\\n  ...</td>\n",
       "      <td>M 21-39</td>\n",
       "      <td>\\r\\n\\r\\n                    33 of 33\\r\\n\\r\\n  ...</td>\n",
       "      <td>0:08</td>\n",
       "      <td>1:09:19</td>\n",
       "    </tr>\n",
       "    <tr>\n",
       "      <th>194</th>\n",
       "      <td>190</td>\n",
       "      <td>2087</td>\n",
       "      <td>\\r\\n\\r\\n                    LEESHA POSEY\\r\\n\\r...</td>\n",
       "      <td>F</td>\n",
       "      <td>43</td>\n",
       "      <td>PORTLAND</td>\n",
       "      <td>OR</td>\n",
       "      <td>30:17</td>\n",
       "      <td>1:33:53</td>\n",
       "      <td>\\r\\n\\r\\n                    112 of 113\\r\\n\\r\\n...</td>\n",
       "      <td>F 40-54</td>\n",
       "      <td>\\r\\n\\r\\n                    36 of 37\\r\\n\\r\\n  ...</td>\n",
       "      <td>0:00</td>\n",
       "      <td>1:33:53</td>\n",
       "    </tr>\n",
       "    <tr>\n",
       "      <th>195</th>\n",
       "      <td>191</td>\n",
       "      <td>1216</td>\n",
       "      <td>\\r\\n\\r\\n                    ZULMA OCHOA\\r\\n\\r\\...</td>\n",
       "      <td>F</td>\n",
       "      <td>40</td>\n",
       "      <td>GRESHAM</td>\n",
       "      <td>OR</td>\n",
       "      <td>33:22</td>\n",
       "      <td>1:43:27</td>\n",
       "      <td>\\r\\n\\r\\n                    113 of 113\\r\\n\\r\\n...</td>\n",
       "      <td>F 40-54</td>\n",
       "      <td>\\r\\n\\r\\n                    37 of 37\\r\\n\\r\\n  ...</td>\n",
       "      <td>0:00</td>\n",
       "      <td>1:43:27</td>\n",
       "    </tr>\n",
       "  </tbody>\n",
       "</table>\n",
       "<p>191 rows × 14 columns</p>\n",
       "</div>"
      ],
      "text/plain": [
       "    Place   Bib                                               Name Gender Age  \\\n",
       "5       1  1191  \\r\\n\\r\\n                    MAX RANDOLPH\\r\\n\\r...      M  29   \n",
       "6       2  1080  \\r\\n\\r\\n                    NEED NAME KAISER R...      M  25   \n",
       "7       3  1275  \\r\\n\\r\\n                    DAN FRANEK\\r\\n\\r\\n...      M  52   \n",
       "8       4  1223  \\r\\n\\r\\n                    PAUL TAYLOR\\r\\n\\r\\...      M  54   \n",
       "9       5  1245  \\r\\n\\r\\n                    THEO KINMAN\\r\\n\\r\\...      M  22   \n",
       "..    ...   ...                                                ...    ...  ..   \n",
       "191   187  1254  \\r\\n\\r\\n                    CYNTHIA HARRIS\\r\\n...      F  64   \n",
       "192   188  1085  \\r\\n\\r\\n                    EBONY LAWRENCE\\r\\n...      F  30   \n",
       "193   189  1170  \\r\\n\\r\\n                    ANTHONY WILLIAMS\\r...      M  39   \n",
       "194   190  2087  \\r\\n\\r\\n                    LEESHA POSEY\\r\\n\\r...      F  43   \n",
       "195   191  1216  \\r\\n\\r\\n                    ZULMA OCHOA\\r\\n\\r\\...      F  40   \n",
       "\n",
       "           City State Chip Pace Chip Time  \\\n",
       "5    WASHINGTON    DC      5:25     16:48   \n",
       "6      PORTLAND    OR      5:39     17:31   \n",
       "7      PORTLAND    OR      5:53     18:15   \n",
       "8      PORTLAND    OR      5:58     18:31   \n",
       "9                          6:17     19:31   \n",
       "..          ...   ...       ...       ...   \n",
       "191    PORTLAND    OR     21:53   1:07:51   \n",
       "192    PORTLAND    OR     22:00   1:08:12   \n",
       "193    PORTLAND    OR     22:19   1:09:11   \n",
       "194    PORTLAND    OR     30:17   1:33:53   \n",
       "195     GRESHAM    OR     33:22   1:43:27   \n",
       "\n",
       "                                          Gender Place Age Group  \\\n",
       "5    \\r\\n\\r\\n                    1 of 78\\r\\n\\r\\n   ...   M 21-39   \n",
       "6    \\r\\n\\r\\n                    2 of 78\\r\\n\\r\\n   ...   M 21-39   \n",
       "7    \\r\\n\\r\\n                    3 of 78\\r\\n\\r\\n   ...   M 40-54   \n",
       "8    \\r\\n\\r\\n                    4 of 78\\r\\n\\r\\n   ...   M 40-54   \n",
       "9    \\r\\n\\r\\n                    5 of 78\\r\\n\\r\\n   ...   M 21-39   \n",
       "..                                                 ...       ...   \n",
       "191  \\r\\n\\r\\n                    110 of 113\\r\\n\\r\\n...     F 55+   \n",
       "192  \\r\\n\\r\\n                    111 of 113\\r\\n\\r\\n...   F 21-39   \n",
       "193  \\r\\n\\r\\n                    78 of 78\\r\\n\\r\\n  ...   M 21-39   \n",
       "194  \\r\\n\\r\\n                    112 of 113\\r\\n\\r\\n...   F 40-54   \n",
       "195  \\r\\n\\r\\n                    113 of 113\\r\\n\\r\\n...   F 40-54   \n",
       "\n",
       "                                       Age Group Place Time to Start Gun Time  \n",
       "5    \\r\\n\\r\\n                    1 of 33\\r\\n\\r\\n   ...          0:08    16:56  \n",
       "6    \\r\\n\\r\\n                    2 of 33\\r\\n\\r\\n   ...          0:09    17:40  \n",
       "7    \\r\\n\\r\\n                    1 of 27\\r\\n\\r\\n   ...          0:07    18:22  \n",
       "8    \\r\\n\\r\\n                    2 of 27\\r\\n\\r\\n   ...          0:07    18:38  \n",
       "9    \\r\\n\\r\\n                    3 of 33\\r\\n\\r\\n   ...          0:09    19:40  \n",
       "..                                                 ...           ...      ...  \n",
       "191  \\r\\n\\r\\n                    14 of 14\\r\\n\\r\\n  ...          1:19  1:09:10  \n",
       "192  \\r\\n\\r\\n                    53 of 53\\r\\n\\r\\n  ...          0:58  1:09:10  \n",
       "193  \\r\\n\\r\\n                    33 of 33\\r\\n\\r\\n  ...          0:08  1:09:19  \n",
       "194  \\r\\n\\r\\n                    36 of 37\\r\\n\\r\\n  ...          0:00  1:33:53  \n",
       "195  \\r\\n\\r\\n                    37 of 37\\r\\n\\r\\n  ...          0:00  1:43:27  \n",
       "\n",
       "[191 rows x 14 columns]"
      ]
     },
     "execution_count": 51,
     "metadata": {},
     "output_type": "execute_result"
    }
   ],
   "source": [
    "df.dropna()"
   ]
  },
  {
   "cell_type": "code",
   "execution_count": 52,
   "id": "087981ce-a1aa-4379-84ce-b6d42e12724c",
   "metadata": {},
   "outputs": [
    {
     "data": {
      "text/plain": [
       "196"
      ]
     },
     "execution_count": 52,
     "metadata": {},
     "output_type": "execute_result"
    }
   ],
   "source": [
    "df.shape[0]"
   ]
  },
  {
   "cell_type": "code",
   "execution_count": 53,
   "id": "e0e9375a-1572-469a-91f2-d38fbd773cb0",
   "metadata": {},
   "outputs": [],
   "source": [
    "\n",
    "df.to_csv('BS4.csv')\n"
   ]
  },
  {
   "cell_type": "code",
   "execution_count": null,
   "id": "2f85a19e-07fe-4a3e-9813-20bb65ff26db",
   "metadata": {},
   "outputs": [],
   "source": [
    "import csv\n",
    "import codecs\n",
    "x = []\n",
    "y = []\n",
    "with open('BS4.csv','rb') as csvfile:\n",
    "    lines = csv.reader(codecs.iterdecode(csvfile, 'utf-8'))\n",
    "    for row in lines:\n",
    "        x.append(row[0])\n",
    "        y.append(row[1])\n",
    "        plt.plot(x, y, color = 'g', linestyle = 'dashed')\n",
    "        plt.grid()\n",
    "        plt.legend()\n",
    "        plt.show()"
   ]
  },
  {
   "cell_type": "code",
   "execution_count": null,
   "id": "c824d563-8e3a-4ec0-9842-13bb01f47c51",
   "metadata": {},
   "outputs": [],
   "source": []
  },
  {
   "cell_type": "code",
   "execution_count": null,
   "id": "17b9994a-cbb7-4f28-935e-b3e55567deb8",
   "metadata": {},
   "outputs": [],
   "source": [
    "plt.scatter(column='Age', by='Gender')\n",
    "plt.ylabel('cyx')"
   ]
  },
  {
   "cell_type": "code",
   "execution_count": null,
   "id": "4c231955-73c5-44d8-93b3-af64e8e8beed",
   "metadata": {},
   "outputs": [],
   "source": []
  }
 ],
 "metadata": {
  "kernelspec": {
   "display_name": "Python 3 (ipykernel)",
   "language": "python",
   "name": "python3"
  },
  "language_info": {
   "codemirror_mode": {
    "name": "ipython",
    "version": 3
   },
   "file_extension": ".py",
   "mimetype": "text/x-python",
   "name": "python",
   "nbconvert_exporter": "python",
   "pygments_lexer": "ipython3",
   "version": "3.9.7"
  }
 },
 "nbformat": 4,
 "nbformat_minor": 5
}
