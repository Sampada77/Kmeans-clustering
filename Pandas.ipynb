{
 "cells": [
  {
   "cell_type": "code",
   "execution_count": 41,
   "id": "3b58747c",
   "metadata": {},
   "outputs": [],
   "source": [
    "import pandas as pd\n",
    "import numpy as np"
   ]
  },
  {
   "cell_type": "code",
   "execution_count": 8,
   "id": "e27e300e",
   "metadata": {},
   "outputs": [
    {
     "name": "stdout",
     "output_type": "stream",
     "text": [
      "1.3.4\n"
     ]
    }
   ],
   "source": [
    "\n",
    "\n",
    "print(pd.__version__)"
   ]
  },
  {
   "cell_type": "code",
   "execution_count": 10,
   "id": "0a5f1895",
   "metadata": {},
   "outputs": [
    {
     "data": {
      "text/plain": [
       "0    1\n",
       "1    2\n",
       "2    3\n",
       "3    4\n",
       "4    5\n",
       "5    6\n",
       "dtype: int64"
      ]
     },
     "execution_count": 10,
     "metadata": {},
     "output_type": "execute_result"
    }
   ],
   "source": [
    "a=[1,2,3,4,5,6]\n",
    "s1=pd.Series(a)\n",
    "s1"
   ]
  },
  {
   "cell_type": "code",
   "execution_count": 14,
   "id": "7953e1d5",
   "metadata": {},
   "outputs": [
    {
     "data": {
      "text/plain": [
       "1    1\n",
       "2    2\n",
       "3    3\n",
       "4    4\n",
       "5    5\n",
       "6    6\n",
       "dtype: int64"
      ]
     },
     "execution_count": 14,
     "metadata": {},
     "output_type": "execute_result"
    }
   ],
   "source": [
    "order=[1,2,3,4,5,6]\n",
    "s2=pd.Series(a,index=order)\n",
    "s2"
   ]
  },
  {
   "cell_type": "code",
   "execution_count": 19,
   "id": "076ace5b",
   "metadata": {},
   "outputs": [
    {
     "data": {
      "text/plain": [
       "array([ 2.25460133,  0.5691603 ,  0.29617082,  0.23156882, -0.37160096])"
      ]
     },
     "execution_count": 19,
     "metadata": {},
     "output_type": "execute_result"
    }
   ],
   "source": [
    "arr=np.random.randn(5)\n",
    "arr"
   ]
  },
  {
   "cell_type": "code",
   "execution_count": 26,
   "id": "c81b80a5",
   "metadata": {},
   "outputs": [
    {
     "data": {
      "text/plain": [
       "a    1\n",
       "b    2\n",
       "c    3\n",
       "d    4\n",
       "dtype: int64"
      ]
     },
     "execution_count": 26,
     "metadata": {},
     "output_type": "execute_result"
    }
   ],
   "source": [
    "#series from dictionary\n",
    "\n",
    "d={'a':1,'b':2,'c':3,'d':4}\n",
    "s3=pd.Series(d)\n",
    "s3.index=['a','b','c','d']\n",
    "s3"
   ]
  },
  {
   "cell_type": "code",
   "execution_count": 30,
   "id": "efaac8e2",
   "metadata": {},
   "outputs": [
    {
     "data": {
      "text/plain": [
       "c    3\n",
       "d    4\n",
       "dtype: int64"
      ]
     },
     "execution_count": 30,
     "metadata": {},
     "output_type": "execute_result"
    }
   ],
   "source": [
    "#slicing\n",
    "a=s1[-2:]\n",
    "a"
   ]
  },
  {
   "cell_type": "code",
   "execution_count": 32,
   "id": "caec042c",
   "metadata": {},
   "outputs": [
    {
     "data": {
      "text/plain": [
       "a    1\n",
       "b    2\n",
       "c    3\n",
       "d    4\n",
       "1    1\n",
       "2    2\n",
       "3    3\n",
       "4    4\n",
       "5    5\n",
       "dtype: int64"
      ]
     },
     "execution_count": 32,
     "metadata": {},
     "output_type": "execute_result"
    }
   ],
   "source": [
    "s4=s1.append(s2)\n",
    "s4\n",
    "s4.drop(6)"
   ]
  },
  {
   "cell_type": "markdown",
   "id": "10269def",
   "metadata": {},
   "source": [
    "# series operation\n"
   ]
  },
  {
   "cell_type": "code",
   "execution_count": 34,
   "id": "f4ff7dd5",
   "metadata": {},
   "outputs": [],
   "source": [
    "a1=[1,2,3,4,5]\n",
    "a2=[6,7,8,9,3]"
   ]
  },
  {
   "cell_type": "code",
   "execution_count": 36,
   "id": "fcf7d0b2",
   "metadata": {},
   "outputs": [
    {
     "data": {
      "text/plain": [
       "0    6\n",
       "1    7\n",
       "2    8\n",
       "3    9\n",
       "4    3\n",
       "dtype: int64"
      ]
     },
     "execution_count": 36,
     "metadata": {},
     "output_type": "execute_result"
    }
   ],
   "source": [
    "s5=pd.Series(a1)\n",
    "s6=pd.Series(a2)\n",
    "s6"
   ]
  },
  {
   "cell_type": "code",
   "execution_count": 38,
   "id": "9366d8db",
   "metadata": {},
   "outputs": [
    {
     "data": {
      "text/plain": [
       "7.0"
      ]
     },
     "execution_count": 38,
     "metadata": {},
     "output_type": "execute_result"
    }
   ],
   "source": [
    "s5.add(s6)\n",
    "s6.median()"
   ]
  },
  {
   "cell_type": "markdown",
   "id": "e725b7aa",
   "metadata": {},
   "source": [
    "# dataframe creating"
   ]
  },
  {
   "cell_type": "code",
   "execution_count": 47,
   "id": "99d398e7",
   "metadata": {},
   "outputs": [
    {
     "data": {
      "text/plain": [
       "a    float64\n",
       "b    float64\n",
       "c    float64\n",
       "d    float64\n",
       "dtype: object"
      ]
     },
     "execution_count": 47,
     "metadata": {},
     "output_type": "execute_result"
    }
   ],
   "source": [
    "dates=pd.date_range('today',periods=6)\n",
    "num_arr=np.random.randn(6,4)\n",
    "column=['a','b','c','d']\n",
    "df1=pd.DataFrame(num_arr,index=dates,columns=column)\n",
    "df1\n",
    "df1.dtypes"
   ]
  },
  {
   "cell_type": "code",
   "execution_count": 49,
   "id": "13e90e82",
   "metadata": {},
   "outputs": [],
   "source": [
    "df1.to_csv('made.csv')\n",
    "df1.to_excel('made.xlsx')"
   ]
  },
  {
   "cell_type": "code",
   "execution_count": 51,
   "id": "76a30a75",
   "metadata": {},
   "outputs": [
    {
     "data": {
      "text/html": [
       "<div>\n",
       "<style scoped>\n",
       "    .dataframe tbody tr th:only-of-type {\n",
       "        vertical-align: middle;\n",
       "    }\n",
       "\n",
       "    .dataframe tbody tr th {\n",
       "        vertical-align: top;\n",
       "    }\n",
       "\n",
       "    .dataframe thead th {\n",
       "        text-align: right;\n",
       "    }\n",
       "</style>\n",
       "<table border=\"1\" class=\"dataframe\">\n",
       "  <thead>\n",
       "    <tr style=\"text-align: right;\">\n",
       "      <th></th>\n",
       "      <th>a</th>\n",
       "      <th>b</th>\n",
       "      <th>c</th>\n",
       "      <th>d</th>\n",
       "    </tr>\n",
       "  </thead>\n",
       "  <tbody>\n",
       "    <tr>\n",
       "      <th>2022-09-21 20:13:31.125105</th>\n",
       "      <td>-0.002729</td>\n",
       "      <td>1.087145</td>\n",
       "      <td>1.571018</td>\n",
       "      <td>0.352070</td>\n",
       "    </tr>\n",
       "    <tr>\n",
       "      <th>2022-09-22 20:13:31.125105</th>\n",
       "      <td>-0.030863</td>\n",
       "      <td>2.310595</td>\n",
       "      <td>0.848937</td>\n",
       "      <td>0.697587</td>\n",
       "    </tr>\n",
       "    <tr>\n",
       "      <th>2022-09-23 20:13:31.125105</th>\n",
       "      <td>-0.812994</td>\n",
       "      <td>2.881734</td>\n",
       "      <td>3.242389</td>\n",
       "      <td>1.105339</td>\n",
       "    </tr>\n",
       "    <tr>\n",
       "      <th>2022-09-24 20:13:31.125105</th>\n",
       "      <td>-0.988474</td>\n",
       "      <td>1.895395</td>\n",
       "      <td>3.372547</td>\n",
       "      <td>1.305071</td>\n",
       "    </tr>\n",
       "    <tr>\n",
       "      <th>2022-09-25 20:13:31.125105</th>\n",
       "      <td>0.034895</td>\n",
       "      <td>2.553972</td>\n",
       "      <td>3.020544</td>\n",
       "      <td>1.997333</td>\n",
       "    </tr>\n",
       "    <tr>\n",
       "      <th>2022-09-26 20:13:31.125105</th>\n",
       "      <td>-1.680548</td>\n",
       "      <td>3.322577</td>\n",
       "      <td>3.512198</td>\n",
       "      <td>2.125139</td>\n",
       "    </tr>\n",
       "  </tbody>\n",
       "</table>\n",
       "</div>"
      ],
      "text/plain": [
       "                                   a         b         c         d\n",
       "2022-09-21 20:13:31.125105 -0.002729  1.087145  1.571018  0.352070\n",
       "2022-09-22 20:13:31.125105 -0.030863  2.310595  0.848937  0.697587\n",
       "2022-09-23 20:13:31.125105 -0.812994  2.881734  3.242389  1.105339\n",
       "2022-09-24 20:13:31.125105 -0.988474  1.895395  3.372547  1.305071\n",
       "2022-09-25 20:13:31.125105  0.034895  2.553972  3.020544  1.997333\n",
       "2022-09-26 20:13:31.125105 -1.680548  3.322577  3.512198  2.125139"
      ]
     },
     "execution_count": 51,
     "metadata": {},
     "output_type": "execute_result"
    },
    {
     "data": {
      "image/png": "[encoded data removed]",
      "text/plain": [
       "<Figure size 432x288 with 1 Axes>"
      ]
     },
     "metadata": {
      "needs_background": "light"
     },
     "output_type": "display_data"
    }
   ],
   "source": [
    "df1.plot()\n",
    "df1.cumsum()"
   ]
  },
  {
   "cell_type": "code",
   "execution_count": null,
   "id": "fc958f78",
   "metadata": {},
   "outputs": [],
   "source": []
  }
 ],
 "metadata": {
  "kernelspec": {
   "display_name": "Python 3 (ipykernel)",
   "language": "python",
   "name": "python3"
  },
  "language_info": {
   "codemirror_mode": {
    "name": "ipython",
    "version": 3
   },
   "file_extension": ".py",
   "mimetype": "text/x-python",
   "name": "python",
   "nbconvert_exporter": "python",
   "pygments_lexer": "ipython3",
   "version": "3.9.7"
  }
 },
 "nbformat": 4,
 "nbformat_minor": 5
}
