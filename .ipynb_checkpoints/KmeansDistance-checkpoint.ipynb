{
 "cells": [
  {
   "cell_type": "code",
   "execution_count": 5,
   "id": "0c38db23",
   "metadata": {},
   "outputs": [
    {
     "name": "stdout",
     "output_type": "stream",
     "text": [
      "[[ 10 125]\n",
      " [ 25 150]\n",
      " [ 35 200]]\n"
     ]
    }
   ],
   "source": [
    "import numpy as np\n",
    "\n",
    "xys=np.array([[10,125],[25,150],[35,200]])\n",
    "print(xys)\n",
    "\n"
   ]
  },
  {
   "cell_type": "code",
   "execution_count": 6,
   "id": "84ca2608",
   "metadata": {},
   "outputs": [
    {
     "name": "stdout",
     "output_type": "stream",
     "text": [
      "[ 67.5  87.5 117.5] [ 23.33333333 158.33333333]\n"
     ]
    }
   ],
   "source": [
    "x_mean=np.mean(xys,axis=1)\n",
    "y_mean=np.mean(xys,axis=0)\n",
    "print(x_mean,y_mean)\n",
    "std_dev=np.std(xys,0)"
   ]
  },
  {
   "cell_type": "code",
   "execution_count": 7,
   "id": "abd6f02b",
   "metadata": {},
   "outputs": [
    {
     "name": "stdout",
     "output_type": "stream",
     "text": [
      "23.333333333333332 158.33333333333334\n"
     ]
    },
    {
     "data": {
      "text/plain": [
       "<matplotlib.collections.PathCollection at 0x23b9983e610>"
      ]
     },
     "execution_count": 7,
     "metadata": {},
     "output_type": "execute_result"
    },
    {
     "data": {
      "image/png": "[encoded data removed]",
      "text/plain": [
       "<Figure size 432x288 with 1 Axes>"
      ]
     },
     "metadata": {
      "needs_background": "light"
     },
     "output_type": "display_data"
    }
   ],
   "source": [
    "import matplotlib.pyplot as plt\n",
    "plt.scatter(xys[:,0],xys[:,1])\n",
    "mean=np.mean(xys,0)\n",
    "print(mean[0],mean[1])\n",
    "plt.scatter(mean[0],mean[1])\n"
   ]
  },
  {
   "cell_type": "code",
   "execution_count": 8,
   "id": "6228f04e",
   "metadata": {},
   "outputs": [
    {
     "data": {
      "text/plain": [
       "<matplotlib.patches.Ellipse at 0x23b99fa7760>"
      ]
     },
     "execution_count": 8,
     "metadata": {},
     "output_type": "execute_result"
    },
    {
     "data": {
      "image/png": "[encoded data removed]",
      "text/plain": [
       "<Figure size 432x288 with 1 Axes>"
      ]
     },
     "metadata": {
      "needs_background": "light"
     },
     "output_type": "display_data"
    }
   ],
   "source": [
    "import matplotlib.patches as patches\n",
    "ellipse=patches.Ellipse([mean[0],mean[1]],std_dev[0],std_dev[1],alpha=0.20)\n",
    "fig,km=plt.subplots()\n",
    "km.scatter(xys[:,0],xys[:,1])\n",
    "km.scatter(mean[0],mean[1])\n",
    "km.add_patch(ellipse)"
   ]
  },
  {
   "cell_type": "code",
   "execution_count": 9,
   "id": "c5ce3f67",
   "metadata": {},
   "outputs": [
    {
     "name": "stdout",
     "output_type": "stream",
     "text": [
      "[35.90109871423004, 8.498365855987984, 43.26918328582389]\n"
     ]
    }
   ],
   "source": [
    "#euclidean dist\n",
    "dist1=np.linalg.norm(xys[0]-mean)\n",
    "#using lst comphresion\n",
    "dists=[np.linalg.norm(xy-mean) for xy in xys]\n",
    "print(dists)"
   ]
  },
  {
   "cell_type": "code",
   "execution_count": 10,
   "id": "8fb566ff",
   "metadata": {},
   "outputs": [
    {
     "name": "stdout",
     "output_type": "stream",
     "text": [
      "10 35\n",
      "[0.  0.6 1. ]\n"
     ]
    }
   ],
   "source": [
    "#normalisation\n",
    "x_min=np.min(xys[:,0])\n",
    "x_max=np.max(xys[:,0])\n",
    "print(x_min,x_max)\n",
    "normalised_x=((xys[:,0]-x_min)/(x_max-x_min))\n",
    "print(normalised_x)"
   ]
  },
  {
   "cell_type": "code",
   "execution_count": 11,
   "id": "994dea7d",
   "metadata": {},
   "outputs": [
    {
     "name": "stdout",
     "output_type": "stream",
     "text": [
      "[[ 10 125]\n",
      " [ 25 150]\n",
      " [ 35 200]]\n",
      "[ 10 125] [ 35 200]\n",
      "[[0.         0.        ]\n",
      " [0.6        0.33333333]\n",
      " [1.         1.        ]]\n"
     ]
    }
   ],
   "source": [
    "print(xys)\n",
    "min=np.min(xys,0)\n",
    "max=np.max(xys,0)\n",
    "print(min,max)\n",
    "normed=((xys-min)/(max-min))\n",
    "print(normed)"
   ]
  },
  {
   "cell_type": "code",
   "execution_count": 12,
   "id": "38c0c61d",
   "metadata": {},
   "outputs": [
    {
     "data": {
      "text/plain": [
       "<matplotlib.patches.Ellipse at 0x23b9a02a940>"
      ]
     },
     "execution_count": 12,
     "metadata": {},
     "output_type": "execute_result"
    },
    {
     "data": {
      "image/png": "[encoded data removed]",
      "text/plain": [
       "<Figure size 432x288 with 1 Axes>"
      ]
     },
     "metadata": {
      "needs_background": "light"
     },
     "output_type": "display_data"
    }
   ],
   "source": [
    "std_dev=np.std(normed,0)\n",
    "mean=np.mean(normed,0)\n",
    "ellipse=patches.Ellipse([mean[0],mean[1]],std_dev[0],std_dev[1],alpha=0.20)\n",
    "fig,km=plt.subplots()\n",
    "km.scatter(normed[:,0],normed[:,1])\n",
    "km.scatter(mean[0],mean[1])\n",
    "km.add_patch(ellipse)"
   ]
  },
  {
   "cell_type": "code",
   "execution_count": 13,
   "id": "4e8301e5",
   "metadata": {},
   "outputs": [],
   "source": [
    "import pandas as pd\n",
    "\n",
    "data=pd.read_csv(\"happyscore_income.csv\")"
   ]
  },
  {
   "cell_type": "code",
   "execution_count": 14,
   "id": "755d74b4",
   "metadata": {},
   "outputs": [
    {
     "data": {
      "text/plain": [
       "country                          Zimbabwe\n",
       "adjusted_satisfaction                  74\n",
       "avg_satisfaction                      8.5\n",
       "std_satisfaction                     3.19\n",
       "avg_income                      26182.275\n",
       "median_income                    22240.23\n",
       "income_inequality               63.726667\n",
       "region                   'Western Europe'\n",
       "happyScore                          7.587\n",
       "GDP                               1.56391\n",
       "country.1                        Zimbabwe\n",
       "dtype: object"
      ]
     },
     "execution_count": 14,
     "metadata": {},
     "output_type": "execute_result"
    }
   ],
   "source": [
    "data.max()"
   ]
  },
  {
   "cell_type": "code",
   "execution_count": 15,
   "id": "86999f35",
   "metadata": {},
   "outputs": [
    {
     "data": {
      "text/plain": [
       "(111, 11)"
      ]
     },
     "execution_count": 15,
     "metadata": {},
     "output_type": "execute_result"
    }
   ],
   "source": [
    "data.shape\n"
   ]
  },
  {
   "cell_type": "code",
   "execution_count": 16,
   "id": "7a471e63",
   "metadata": {},
   "outputs": [
    {
     "data": {
      "text/html": [
       "<div>\n",
       "<style scoped>\n",
       "    .dataframe tbody tr th:only-of-type {\n",
       "        vertical-align: middle;\n",
       "    }\n",
       "\n",
       "    .dataframe tbody tr th {\n",
       "        vertical-align: top;\n",
       "    }\n",
       "\n",
       "    .dataframe thead th {\n",
       "        text-align: right;\n",
       "    }\n",
       "</style>\n",
       "<table border=\"1\" class=\"dataframe\">\n",
       "  <thead>\n",
       "    <tr style=\"text-align: right;\">\n",
       "      <th></th>\n",
       "      <th>country</th>\n",
       "      <th>adjusted_satisfaction</th>\n",
       "      <th>avg_satisfaction</th>\n",
       "      <th>std_satisfaction</th>\n",
       "      <th>avg_income</th>\n",
       "      <th>median_income</th>\n",
       "      <th>income_inequality</th>\n",
       "      <th>region</th>\n",
       "      <th>happyScore</th>\n",
       "      <th>GDP</th>\n",
       "      <th>country.1</th>\n",
       "    </tr>\n",
       "  </thead>\n",
       "  <tbody>\n",
       "    <tr>\n",
       "      <th>0</th>\n",
       "      <td>Armenia</td>\n",
       "      <td>37</td>\n",
       "      <td>4.9</td>\n",
       "      <td>2.42</td>\n",
       "      <td>2096.76</td>\n",
       "      <td>1731.506667</td>\n",
       "      <td>31.445556</td>\n",
       "      <td>'Central and Eastern Europe'</td>\n",
       "      <td>4.350</td>\n",
       "      <td>0.76821</td>\n",
       "      <td>Armenia</td>\n",
       "    </tr>\n",
       "    <tr>\n",
       "      <th>1</th>\n",
       "      <td>Angola</td>\n",
       "      <td>26</td>\n",
       "      <td>4.3</td>\n",
       "      <td>3.19</td>\n",
       "      <td>1448.88</td>\n",
       "      <td>1044.240000</td>\n",
       "      <td>42.720000</td>\n",
       "      <td>'Sub-Saharan Africa'</td>\n",
       "      <td>4.033</td>\n",
       "      <td>0.75778</td>\n",
       "      <td>Angola</td>\n",
       "    </tr>\n",
       "    <tr>\n",
       "      <th>2</th>\n",
       "      <td>Argentina</td>\n",
       "      <td>60</td>\n",
       "      <td>7.1</td>\n",
       "      <td>1.91</td>\n",
       "      <td>7101.12</td>\n",
       "      <td>5109.400000</td>\n",
       "      <td>45.475556</td>\n",
       "      <td>'Latin America and Caribbean'</td>\n",
       "      <td>6.574</td>\n",
       "      <td>1.05351</td>\n",
       "      <td>Argentina</td>\n",
       "    </tr>\n",
       "    <tr>\n",
       "      <th>3</th>\n",
       "      <td>Austria</td>\n",
       "      <td>59</td>\n",
       "      <td>7.2</td>\n",
       "      <td>2.11</td>\n",
       "      <td>19457.04</td>\n",
       "      <td>16879.620000</td>\n",
       "      <td>30.296250</td>\n",
       "      <td>'Western Europe'</td>\n",
       "      <td>7.200</td>\n",
       "      <td>1.33723</td>\n",
       "      <td>Austria</td>\n",
       "    </tr>\n",
       "    <tr>\n",
       "      <th>4</th>\n",
       "      <td>Australia</td>\n",
       "      <td>65</td>\n",
       "      <td>7.6</td>\n",
       "      <td>1.80</td>\n",
       "      <td>19917.00</td>\n",
       "      <td>15846.060000</td>\n",
       "      <td>35.285000</td>\n",
       "      <td>'Australia and New Zealand'</td>\n",
       "      <td>7.284</td>\n",
       "      <td>1.33358</td>\n",
       "      <td>Australia</td>\n",
       "    </tr>\n",
       "  </tbody>\n",
       "</table>\n",
       "</div>"
      ],
      "text/plain": [
       "     country  adjusted_satisfaction  avg_satisfaction  std_satisfaction  \\\n",
       "0    Armenia                     37               4.9              2.42   \n",
       "1     Angola                     26               4.3              3.19   \n",
       "2  Argentina                     60               7.1              1.91   \n",
       "3    Austria                     59               7.2              2.11   \n",
       "4  Australia                     65               7.6              1.80   \n",
       "\n",
       "   avg_income  median_income  income_inequality  \\\n",
       "0     2096.76    1731.506667          31.445556   \n",
       "1     1448.88    1044.240000          42.720000   \n",
       "2     7101.12    5109.400000          45.475556   \n",
       "3    19457.04   16879.620000          30.296250   \n",
       "4    19917.00   15846.060000          35.285000   \n",
       "\n",
       "                          region  happyScore      GDP  country.1  \n",
       "0   'Central and Eastern Europe'       4.350  0.76821    Armenia  \n",
       "1           'Sub-Saharan Africa'       4.033  0.75778     Angola  \n",
       "2  'Latin America and Caribbean'       6.574  1.05351  Argentina  \n",
       "3               'Western Europe'       7.200  1.33723    Austria  \n",
       "4    'Australia and New Zealand'       7.284  1.33358  Australia  "
      ]
     },
     "execution_count": 16,
     "metadata": {},
     "output_type": "execute_result"
    }
   ],
   "source": [
    "data.head()"
   ]
  },
  {
   "cell_type": "code",
   "execution_count": 17,
   "id": "57361169",
   "metadata": {},
   "outputs": [
    {
     "data": {
      "text/plain": [
       "<matplotlib.collections.PathCollection at 0x23b9aeb5730>"
      ]
     },
     "execution_count": 17,
     "metadata": {},
     "output_type": "execute_result"
    },
    {
     "data": {
      "image/png": "[encoded data removed]",
      "text/plain": [
       "<Figure size 432x288 with 1 Axes>"
      ]
     },
     "metadata": {
      "needs_background": "light"
     },
     "output_type": "display_data"
    }
   ],
   "source": [
    "import matplotlib.pyplot as plt\n",
    "\n",
    "income=data['avg_income']\n",
    "statisf=data['std_satisfaction']\n",
    "\n",
    "plt.scatter(income,statisf)"
   ]
  },
  {
   "cell_type": "code",
   "execution_count": 18,
   "id": "da76fd2b",
   "metadata": {},
   "outputs": [
    {
     "data": {
      "text/html": [
       "<div>\n",
       "<style scoped>\n",
       "    .dataframe tbody tr th:only-of-type {\n",
       "        vertical-align: middle;\n",
       "    }\n",
       "\n",
       "    .dataframe tbody tr th {\n",
       "        vertical-align: top;\n",
       "    }\n",
       "\n",
       "    .dataframe thead th {\n",
       "        text-align: right;\n",
       "    }\n",
       "</style>\n",
       "<table border=\"1\" class=\"dataframe\">\n",
       "  <thead>\n",
       "    <tr style=\"text-align: right;\">\n",
       "      <th></th>\n",
       "      <th>country</th>\n",
       "      <th>adjusted_satisfaction</th>\n",
       "      <th>avg_satisfaction</th>\n",
       "      <th>std_satisfaction</th>\n",
       "      <th>avg_income</th>\n",
       "      <th>median_income</th>\n",
       "      <th>income_inequality</th>\n",
       "      <th>region</th>\n",
       "      <th>happyScore</th>\n",
       "      <th>GDP</th>\n",
       "      <th>country.1</th>\n",
       "    </tr>\n",
       "  </thead>\n",
       "  <tbody>\n",
       "    <tr>\n",
       "      <th>58</th>\n",
       "      <td>Liberia</td>\n",
       "      <td>37</td>\n",
       "      <td>4.4</td>\n",
       "      <td>2.02</td>\n",
       "      <td>653.040</td>\n",
       "      <td>528.72</td>\n",
       "      <td>36.480000</td>\n",
       "      <td>'Sub-Saharan Africa'</td>\n",
       "      <td>4.571</td>\n",
       "      <td>0.07120</td>\n",
       "      <td>Liberia</td>\n",
       "    </tr>\n",
       "    <tr>\n",
       "      <th>72</th>\n",
       "      <td>Mozambique</td>\n",
       "      <td>34</td>\n",
       "      <td>3.8</td>\n",
       "      <td>1.76</td>\n",
       "      <td>714.720</td>\n",
       "      <td>488.52</td>\n",
       "      <td>45.580000</td>\n",
       "      <td>'Sub-Saharan Africa'</td>\n",
       "      <td>4.971</td>\n",
       "      <td>0.08308</td>\n",
       "      <td>Mozambique</td>\n",
       "    </tr>\n",
       "    <tr>\n",
       "      <th>73</th>\n",
       "      <td>Niger</td>\n",
       "      <td>34</td>\n",
       "      <td>3.8</td>\n",
       "      <td>1.75</td>\n",
       "      <td>718.400</td>\n",
       "      <td>535.56</td>\n",
       "      <td>37.726667</td>\n",
       "      <td>'Sub-Saharan Africa'</td>\n",
       "      <td>3.845</td>\n",
       "      <td>0.06940</td>\n",
       "      <td>Niger</td>\n",
       "    </tr>\n",
       "    <tr>\n",
       "      <th>93</th>\n",
       "      <td>Sierra Leone</td>\n",
       "      <td>27</td>\n",
       "      <td>3.5</td>\n",
       "      <td>2.36</td>\n",
       "      <td>850.080</td>\n",
       "      <td>669.36</td>\n",
       "      <td>33.990000</td>\n",
       "      <td>'Sub-Saharan Africa'</td>\n",
       "      <td>4.507</td>\n",
       "      <td>0.33024</td>\n",
       "      <td>Sierra Leone</td>\n",
       "    </tr>\n",
       "    <tr>\n",
       "      <th>8</th>\n",
       "      <td>Burkina Faso</td>\n",
       "      <td>37</td>\n",
       "      <td>4.4</td>\n",
       "      <td>2.02</td>\n",
       "      <td>870.840</td>\n",
       "      <td>630.24</td>\n",
       "      <td>39.760000</td>\n",
       "      <td>'Sub-Saharan Africa'</td>\n",
       "      <td>3.587</td>\n",
       "      <td>0.25812</td>\n",
       "      <td>Burkina Faso</td>\n",
       "    </tr>\n",
       "    <tr>\n",
       "      <th>...</th>\n",
       "      <td>...</td>\n",
       "      <td>...</td>\n",
       "      <td>...</td>\n",
       "      <td>...</td>\n",
       "      <td>...</td>\n",
       "      <td>...</td>\n",
       "      <td>...</td>\n",
       "      <td>...</td>\n",
       "      <td>...</td>\n",
       "      <td>...</td>\n",
       "      <td>...</td>\n",
       "    </tr>\n",
       "    <tr>\n",
       "      <th>16</th>\n",
       "      <td>Canada</td>\n",
       "      <td>69</td>\n",
       "      <td>8.0</td>\n",
       "      <td>1.71</td>\n",
       "      <td>20190.780</td>\n",
       "      <td>16829.10</td>\n",
       "      <td>33.790000</td>\n",
       "      <td>'North America'</td>\n",
       "      <td>7.427</td>\n",
       "      <td>1.32629</td>\n",
       "      <td>Canada</td>\n",
       "    </tr>\n",
       "    <tr>\n",
       "      <th>77</th>\n",
       "      <td>Norway</td>\n",
       "      <td>70</td>\n",
       "      <td>8.0</td>\n",
       "      <td>1.62</td>\n",
       "      <td>21877.710</td>\n",
       "      <td>19477.62</td>\n",
       "      <td>27.307500</td>\n",
       "      <td>'Western Europe'</td>\n",
       "      <td>7.522</td>\n",
       "      <td>1.45900</td>\n",
       "      <td>Norway</td>\n",
       "    </tr>\n",
       "    <tr>\n",
       "      <th>105</th>\n",
       "      <td>United States</td>\n",
       "      <td>62</td>\n",
       "      <td>7.3</td>\n",
       "      <td>1.92</td>\n",
       "      <td>23127.000</td>\n",
       "      <td>17925.36</td>\n",
       "      <td>41.090000</td>\n",
       "      <td>'North America'</td>\n",
       "      <td>7.119</td>\n",
       "      <td>1.39451</td>\n",
       "      <td>United States</td>\n",
       "    </tr>\n",
       "    <tr>\n",
       "      <th>17</th>\n",
       "      <td>Switzerland</td>\n",
       "      <td>70</td>\n",
       "      <td>8.0</td>\n",
       "      <td>1.62</td>\n",
       "      <td>23400.040</td>\n",
       "      <td>19442.92</td>\n",
       "      <td>32.930000</td>\n",
       "      <td>'Western Europe'</td>\n",
       "      <td>7.587</td>\n",
       "      <td>1.39651</td>\n",
       "      <td>Switzerland</td>\n",
       "    </tr>\n",
       "    <tr>\n",
       "      <th>61</th>\n",
       "      <td>Luxembourg</td>\n",
       "      <td>66</td>\n",
       "      <td>7.7</td>\n",
       "      <td>1.76</td>\n",
       "      <td>26182.275</td>\n",
       "      <td>22240.23</td>\n",
       "      <td>31.950000</td>\n",
       "      <td>'Western Europe'</td>\n",
       "      <td>6.946</td>\n",
       "      <td>1.56391</td>\n",
       "      <td>Luxembourg</td>\n",
       "    </tr>\n",
       "  </tbody>\n",
       "</table>\n",
       "<p>109 rows × 11 columns</p>\n",
       "</div>"
      ],
      "text/plain": [
       "           country  adjusted_satisfaction  avg_satisfaction  std_satisfaction  \\\n",
       "58         Liberia                     37               4.4              2.02   \n",
       "72      Mozambique                     34               3.8              1.76   \n",
       "73           Niger                     34               3.8              1.75   \n",
       "93    Sierra Leone                     27               3.5              2.36   \n",
       "8     Burkina Faso                     37               4.4              2.02   \n",
       "..             ...                    ...               ...               ...   \n",
       "16          Canada                     69               8.0              1.71   \n",
       "77          Norway                     70               8.0              1.62   \n",
       "105  United States                     62               7.3              1.92   \n",
       "17     Switzerland                     70               8.0              1.62   \n",
       "61      Luxembourg                     66               7.7              1.76   \n",
       "\n",
       "     avg_income  median_income  income_inequality                region  \\\n",
       "58      653.040         528.72          36.480000  'Sub-Saharan Africa'   \n",
       "72      714.720         488.52          45.580000  'Sub-Saharan Africa'   \n",
       "73      718.400         535.56          37.726667  'Sub-Saharan Africa'   \n",
       "93      850.080         669.36          33.990000  'Sub-Saharan Africa'   \n",
       "8       870.840         630.24          39.760000  'Sub-Saharan Africa'   \n",
       "..          ...            ...                ...                   ...   \n",
       "16    20190.780       16829.10          33.790000       'North America'   \n",
       "77    21877.710       19477.62          27.307500      'Western Europe'   \n",
       "105   23127.000       17925.36          41.090000       'North America'   \n",
       "17    23400.040       19442.92          32.930000      'Western Europe'   \n",
       "61    26182.275       22240.23          31.950000      'Western Europe'   \n",
       "\n",
       "     happyScore      GDP      country.1  \n",
       "58        4.571  0.07120        Liberia  \n",
       "72        4.971  0.08308     Mozambique  \n",
       "73        3.845  0.06940          Niger  \n",
       "93        4.507  0.33024   Sierra Leone  \n",
       "8         3.587  0.25812   Burkina Faso  \n",
       "..          ...      ...            ...  \n",
       "16        7.427  1.32629         Canada  \n",
       "77        7.522  1.45900         Norway  \n",
       "105       7.119  1.39451  United States  \n",
       "17        7.587  1.39651    Switzerland  \n",
       "61        6.946  1.56391     Luxembourg  \n",
       "\n",
       "[109 rows x 11 columns]"
      ]
     },
     "execution_count": 18,
     "metadata": {},
     "output_type": "execute_result"
    }
   ],
   "source": [
    "data.sort_values('avg_income',inplace=True)\n",
    "\n",
    "richest=data[data['avg_income']>600]\n",
    "richest\n"
   ]
  },
  {
   "cell_type": "code",
   "execution_count": 19,
   "id": "9bcfb046",
   "metadata": {},
   "outputs": [
    {
     "data": {
      "text/html": [
       "<div>\n",
       "<style scoped>\n",
       "    .dataframe tbody tr th:only-of-type {\n",
       "        vertical-align: middle;\n",
       "    }\n",
       "\n",
       "    .dataframe tbody tr th {\n",
       "        vertical-align: top;\n",
       "    }\n",
       "\n",
       "    .dataframe thead th {\n",
       "        text-align: right;\n",
       "    }\n",
       "</style>\n",
       "<table border=\"1\" class=\"dataframe\">\n",
       "  <thead>\n",
       "    <tr style=\"text-align: right;\">\n",
       "      <th></th>\n",
       "      <th>country</th>\n",
       "      <th>adjusted_satisfaction</th>\n",
       "      <th>avg_satisfaction</th>\n",
       "      <th>std_satisfaction</th>\n",
       "      <th>avg_income</th>\n",
       "      <th>median_income</th>\n",
       "      <th>income_inequality</th>\n",
       "      <th>region</th>\n",
       "      <th>happyScore</th>\n",
       "      <th>GDP</th>\n",
       "      <th>country.1</th>\n",
       "    </tr>\n",
       "  </thead>\n",
       "  <tbody>\n",
       "    <tr>\n",
       "      <th>10</th>\n",
       "      <td>Burundi</td>\n",
       "      <td>25</td>\n",
       "      <td>2.9</td>\n",
       "      <td>1.96</td>\n",
       "      <td>572.88</td>\n",
       "      <td>436.92</td>\n",
       "      <td>33.360000</td>\n",
       "      <td>'Sub-Saharan Africa'</td>\n",
       "      <td>2.905</td>\n",
       "      <td>0.01530</td>\n",
       "      <td>Burundi</td>\n",
       "    </tr>\n",
       "    <tr>\n",
       "      <th>65</th>\n",
       "      <td>Madagascar</td>\n",
       "      <td>33</td>\n",
       "      <td>3.7</td>\n",
       "      <td>1.86</td>\n",
       "      <td>574.20</td>\n",
       "      <td>415.48</td>\n",
       "      <td>40.720000</td>\n",
       "      <td>'Sub-Saharan Africa'</td>\n",
       "      <td>3.681</td>\n",
       "      <td>0.20824</td>\n",
       "      <td>Madagascar</td>\n",
       "    </tr>\n",
       "    <tr>\n",
       "      <th>58</th>\n",
       "      <td>Liberia</td>\n",
       "      <td>37</td>\n",
       "      <td>4.4</td>\n",
       "      <td>2.02</td>\n",
       "      <td>653.04</td>\n",
       "      <td>528.72</td>\n",
       "      <td>36.480000</td>\n",
       "      <td>'Sub-Saharan Africa'</td>\n",
       "      <td>4.571</td>\n",
       "      <td>0.07120</td>\n",
       "      <td>Liberia</td>\n",
       "    </tr>\n",
       "    <tr>\n",
       "      <th>72</th>\n",
       "      <td>Mozambique</td>\n",
       "      <td>34</td>\n",
       "      <td>3.8</td>\n",
       "      <td>1.76</td>\n",
       "      <td>714.72</td>\n",
       "      <td>488.52</td>\n",
       "      <td>45.580000</td>\n",
       "      <td>'Sub-Saharan Africa'</td>\n",
       "      <td>4.971</td>\n",
       "      <td>0.08308</td>\n",
       "      <td>Mozambique</td>\n",
       "    </tr>\n",
       "    <tr>\n",
       "      <th>73</th>\n",
       "      <td>Niger</td>\n",
       "      <td>34</td>\n",
       "      <td>3.8</td>\n",
       "      <td>1.75</td>\n",
       "      <td>718.40</td>\n",
       "      <td>535.56</td>\n",
       "      <td>37.726667</td>\n",
       "      <td>'Sub-Saharan Africa'</td>\n",
       "      <td>3.845</td>\n",
       "      <td>0.06940</td>\n",
       "      <td>Niger</td>\n",
       "    </tr>\n",
       "  </tbody>\n",
       "</table>\n",
       "</div>"
      ],
      "text/plain": [
       "       country  adjusted_satisfaction  avg_satisfaction  std_satisfaction  \\\n",
       "10     Burundi                     25               2.9              1.96   \n",
       "65  Madagascar                     33               3.7              1.86   \n",
       "58     Liberia                     37               4.4              2.02   \n",
       "72  Mozambique                     34               3.8              1.76   \n",
       "73       Niger                     34               3.8              1.75   \n",
       "\n",
       "    avg_income  median_income  income_inequality                region  \\\n",
       "10      572.88         436.92          33.360000  'Sub-Saharan Africa'   \n",
       "65      574.20         415.48          40.720000  'Sub-Saharan Africa'   \n",
       "58      653.04         528.72          36.480000  'Sub-Saharan Africa'   \n",
       "72      714.72         488.52          45.580000  'Sub-Saharan Africa'   \n",
       "73      718.40         535.56          37.726667  'Sub-Saharan Africa'   \n",
       "\n",
       "    happyScore      GDP   country.1  \n",
       "10       2.905  0.01530     Burundi  \n",
       "65       3.681  0.20824  Madagascar  \n",
       "58       4.571  0.07120     Liberia  \n",
       "72       4.971  0.08308  Mozambique  \n",
       "73       3.845  0.06940       Niger  "
      ]
     },
     "execution_count": 19,
     "metadata": {},
     "output_type": "execute_result"
    }
   ],
   "source": [
    "data.iloc[0:5]"
   ]
  },
  {
   "cell_type": "code",
   "execution_count": 20,
   "id": "a815c88e",
   "metadata": {},
   "outputs": [
    {
     "data": {
      "text/plain": [
       "Text(26182.275, 6.946, 'Luxembourg')"
      ]
     },
     "execution_count": 20,
     "metadata": {},
     "output_type": "execute_result"
    },
    {
     "name": "stderr",
     "output_type": "stream",
     "text": [
      "findfont: Font family ['normal'] not found. Falling back to DejaVu Sans.\n"
     ]
    },
    {
     "data": {
      "image/png": "[encoded data removed]",
      "text/plain": [
       "<Figure size 432x288 with 1 Axes>"
      ]
     },
     "metadata": {
      "needs_background": "light"
     },
     "output_type": "display_data"
    }
   ],
   "source": [
    "richest.iloc[0]\n",
    "plt.scatter(richest['avg_income'],richest['happyScore'])\n",
    "plt.text(richest.iloc[0]['avg_income'],\n",
    "        richest.iloc[0]['happyScore'],\n",
    "        richest.iloc[0]['country'],alpha=1,font = {'family' : 'normal',\n",
    "        'weight' : 'bold',\n",
    "        'size'   : 22})\n",
    "\n",
    "plt.text(richest.iloc[-1]['avg_income'],\n",
    "        richest.iloc[-1]['happyScore'],\n",
    "        richest.iloc[-1]['country'],alpha=0.2)"
   ]
  },
  {
   "cell_type": "code",
   "execution_count": 21,
   "id": "98a683f0",
   "metadata": {},
   "outputs": [
    {
     "data": {
      "image/png": "[encoded data removed]",
      "text/plain": [
       "<Figure size 432x288 with 1 Axes>"
      ]
     },
     "metadata": {
      "needs_background": "light"
     },
     "output_type": "display_data"
    }
   ],
   "source": [
    "plt.scatter(richest['avg_income'],richest['happyScore'])\n",
    "\n",
    "for k,row in richest.iterrows():\n",
    "    plt.text(row['avg_income'],\n",
    "            row['happyScore'],\n",
    "            row['country'])\n",
    "#     print(row['country'])"
   ]
  },
  {
   "cell_type": "code",
   "execution_count": 22,
   "id": "3bbd272f",
   "metadata": {},
   "outputs": [
    {
     "data": {
      "text/plain": [
       "<matplotlib.collections.PathCollection at 0x23b9c0cca30>"
      ]
     },
     "execution_count": 22,
     "metadata": {},
     "output_type": "execute_result"
    },
    {
     "data": {
      "image/png": "[encoded data removed]",
      "text/plain": [
       "<Figure size 432x288 with 1 Axes>"
      ]
     },
     "metadata": {
      "needs_background": "light"
     },
     "output_type": "display_data"
    }
   ],
   "source": [
    "income=data['avg_income']\n",
    "happy=data['happyScore']\n",
    "\n",
    "plt.xlabel('income')\n",
    "plt.ylabel('happyScore')\n",
    "plt.scatter(income,happy,s=happy*20,alpha=0.25)"
   ]
  },
  {
   "cell_type": "code",
   "execution_count": 23,
   "id": "b4313ed8",
   "metadata": {},
   "outputs": [],
   "source": [
    "import numpy as np\n",
    "from sklearn.cluster import KMeans\n",
    "data_ih=np.column_stack((income,happy))\n",
    "\n",
    "\n",
    "km_res=KMeans(n_clusters=3).fit(data_ih)"
   ]
  },
  {
   "cell_type": "code",
   "execution_count": 24,
   "id": "c93eb99f",
   "metadata": {},
   "outputs": [],
   "source": [
    "clusters=km_res.cluster_centers_"
   ]
  },
  {
   "cell_type": "code",
   "execution_count": 25,
   "id": "e016b35e",
   "metadata": {},
   "outputs": [
    {
     "data": {
      "text/plain": [
       "<matplotlib.collections.PathCollection at 0x23b9da3ed00>"
      ]
     },
     "execution_count": 25,
     "metadata": {},
     "output_type": "execute_result"
    },
    {
     "data": {
      "image/png": "[encoded data removed]",
      "text/plain": [
       "<Figure size 432x288 with 1 Axes>"
      ]
     },
     "metadata": {
      "needs_background": "light"
     },
     "output_type": "display_data"
    }
   ],
   "source": [
    "plt.scatter(income,happy)\n",
    "plt.scatter(clusters[:,0],clusters[:,1],s=500)"
   ]
  },
  {
   "cell_type": "code",
   "execution_count": null,
   "id": "1d37da79",
   "metadata": {},
   "outputs": [],
   "source": []
  },
  {
   "cell_type": "code",
   "execution_count": null,
   "id": "a18a3420",
   "metadata": {},
   "outputs": [],
   "source": []
  }
 ],
 "metadata": {
  "kernelspec": {
   "display_name": "Python 3 (ipykernel)",
   "language": "python",
   "name": "python3"
  },
  "language_info": {
   "codemirror_mode": {
    "name": "ipython",
    "version": 3
   },
   "file_extension": ".py",
   "mimetype": "text/x-python",
   "name": "python",
   "nbconvert_exporter": "python",
   "pygments_lexer": "ipython3",
   "version": "3.9.7"
  }
 },
 "nbformat": 4,
 "nbformat_minor": 5
}
