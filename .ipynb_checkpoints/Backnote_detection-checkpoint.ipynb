{
 "cells": [
  {
   "cell_type": "code",
   "execution_count": null,
   "id": "359dfde5",
   "metadata": {},
   "outputs": [],
   "source": [
    "This dataset is about distinguishing genuine and forged banknotes. Data were extracted from images that were taken from genuine and forged banknote-like specimens. For digitization, an industrial camera usually used for print inspection was used. The final images have 400x 400 pixels. Due to the object lens and distance to the investigated object gray-scale pictures with a resolution of about 660 dpi were gained. A Wavelet Transform tool was used to extract features from these images.\n",
    "\n",
    "Attribute Information\n",
    "V1. variance of Wavelet Transformed image (continuous)\n",
    "V2. skewness of Wavelet Transformed image (continuous)"
   ]
  },
  {
   "cell_type": "code",
   "execution_count": null,
   "id": "f652802c",
   "metadata": {},
   "outputs": [],
   "source": [
    "The purpose of this Data Science project\n",
    "The purpose of this project is to build a K-Means clusterng model to detect if the banknote is genuine or forged so that people don't need to conduct inspection."
   ]
  },
  {
   "cell_type": "markdown",
   "id": "9f9d864a",
   "metadata": {},
   "source": [
    "# Data Wrangling"
   ]
  },
  {
   "cell_type": "code",
   "execution_count": 1,
   "id": "838db428",
   "metadata": {},
   "outputs": [],
   "source": [
    "# import all packages and set plots to be embedded inline\n",
    "import numpy as np\n",
    "import pandas as pd\n",
    "import statsmodels.api as sm\n",
    "import matplotlib.pyplot as plt\n",
    "import seaborn as sb\n",
    "%matplotlib inline"
   ]
  },
  {
   "cell_type": "code",
   "execution_count": 2,
   "id": "a2ab8f6c",
   "metadata": {},
   "outputs": [],
   "source": [
    "#load data\n",
    "\n",
    "df=pd.read_csv(\"banknote.csv\")"
   ]
  },
  {
   "cell_type": "code",
   "execution_count": 3,
   "id": "2fbb3aa1",
   "metadata": {},
   "outputs": [
    {
     "data": {
      "text/plain": [
       "(1372, 2)"
      ]
     },
     "execution_count": 3,
     "metadata": {},
     "output_type": "execute_result"
    }
   ],
   "source": [
    "df.shape\n"
   ]
  },
  {
   "cell_type": "code",
   "execution_count": 4,
   "id": "baae3125",
   "metadata": {},
   "outputs": [
    {
     "data": {
      "text/html": [
       "<div>\n",
       "<style scoped>\n",
       "    .dataframe tbody tr th:only-of-type {\n",
       "        vertical-align: middle;\n",
       "    }\n",
       "\n",
       "    .dataframe tbody tr th {\n",
       "        vertical-align: top;\n",
       "    }\n",
       "\n",
       "    .dataframe thead th {\n",
       "        text-align: right;\n",
       "    }\n",
       "</style>\n",
       "<table border=\"1\" class=\"dataframe\">\n",
       "  <thead>\n",
       "    <tr style=\"text-align: right;\">\n",
       "      <th></th>\n",
       "      <th>V1</th>\n",
       "      <th>V2</th>\n",
       "    </tr>\n",
       "  </thead>\n",
       "  <tbody>\n",
       "    <tr>\n",
       "      <th>0</th>\n",
       "      <td>3.62160</td>\n",
       "      <td>8.6661</td>\n",
       "    </tr>\n",
       "    <tr>\n",
       "      <th>1</th>\n",
       "      <td>4.54590</td>\n",
       "      <td>8.1674</td>\n",
       "    </tr>\n",
       "    <tr>\n",
       "      <th>2</th>\n",
       "      <td>3.86600</td>\n",
       "      <td>-2.6383</td>\n",
       "    </tr>\n",
       "    <tr>\n",
       "      <th>3</th>\n",
       "      <td>3.45660</td>\n",
       "      <td>9.5228</td>\n",
       "    </tr>\n",
       "    <tr>\n",
       "      <th>4</th>\n",
       "      <td>0.32924</td>\n",
       "      <td>-4.4552</td>\n",
       "    </tr>\n",
       "  </tbody>\n",
       "</table>\n",
       "</div>"
      ],
      "text/plain": [
       "        V1      V2\n",
       "0  3.62160  8.6661\n",
       "1  4.54590  8.1674\n",
       "2  3.86600 -2.6383\n",
       "3  3.45660  9.5228\n",
       "4  0.32924 -4.4552"
      ]
     },
     "execution_count": 4,
     "metadata": {},
     "output_type": "execute_result"
    }
   ],
   "source": [
    "df.isnull()\n",
    "df.head()"
   ]
  },
  {
   "cell_type": "code",
   "execution_count": 7,
   "id": "7adf3668",
   "metadata": {},
   "outputs": [
    {
     "data": {
      "text/html": [
       "<div>\n",
       "<style scoped>\n",
       "    .dataframe tbody tr th:only-of-type {\n",
       "        vertical-align: middle;\n",
       "    }\n",
       "\n",
       "    .dataframe tbody tr th {\n",
       "        vertical-align: top;\n",
       "    }\n",
       "\n",
       "    .dataframe thead th {\n",
       "        text-align: right;\n",
       "    }\n",
       "</style>\n",
       "<table border=\"1\" class=\"dataframe\">\n",
       "  <thead>\n",
       "    <tr style=\"text-align: right;\">\n",
       "      <th></th>\n",
       "      <th>V1</th>\n",
       "      <th>V2</th>\n",
       "    </tr>\n",
       "  </thead>\n",
       "  <tbody>\n",
       "    <tr>\n",
       "      <th>count</th>\n",
       "      <td>1372.000000</td>\n",
       "      <td>1372.000000</td>\n",
       "    </tr>\n",
       "    <tr>\n",
       "      <th>mean</th>\n",
       "      <td>0.433735</td>\n",
       "      <td>1.922353</td>\n",
       "    </tr>\n",
       "    <tr>\n",
       "      <th>std</th>\n",
       "      <td>2.842763</td>\n",
       "      <td>5.869047</td>\n",
       "    </tr>\n",
       "    <tr>\n",
       "      <th>min</th>\n",
       "      <td>-7.042100</td>\n",
       "      <td>-13.773100</td>\n",
       "    </tr>\n",
       "    <tr>\n",
       "      <th>25%</th>\n",
       "      <td>-1.773000</td>\n",
       "      <td>-1.708200</td>\n",
       "    </tr>\n",
       "    <tr>\n",
       "      <th>50%</th>\n",
       "      <td>0.496180</td>\n",
       "      <td>2.319650</td>\n",
       "    </tr>\n",
       "    <tr>\n",
       "      <th>75%</th>\n",
       "      <td>2.821475</td>\n",
       "      <td>6.814625</td>\n",
       "    </tr>\n",
       "    <tr>\n",
       "      <th>max</th>\n",
       "      <td>6.824800</td>\n",
       "      <td>12.951600</td>\n",
       "    </tr>\n",
       "  </tbody>\n",
       "</table>\n",
       "</div>"
      ],
      "text/plain": [
       "                V1           V2\n",
       "count  1372.000000  1372.000000\n",
       "mean      0.433735     1.922353\n",
       "std       2.842763     5.869047\n",
       "min      -7.042100   -13.773100\n",
       "25%      -1.773000    -1.708200\n",
       "50%       0.496180     2.319650\n",
       "75%       2.821475     6.814625\n",
       "max       6.824800    12.951600"
      ]
     },
     "execution_count": 7,
     "metadata": {},
     "output_type": "execute_result"
    }
   ],
   "source": [
    "df.describe()"
   ]
  },
  {
   "cell_type": "code",
   "execution_count": 8,
   "id": "837e5a55",
   "metadata": {},
   "outputs": [
    {
     "data": {
      "text/plain": [
       "<bound method DataFrame.info of            V1        V2\n",
       "0     3.62160   8.66610\n",
       "1     4.54590   8.16740\n",
       "2     3.86600  -2.63830\n",
       "3     3.45660   9.52280\n",
       "4     0.32924  -4.45520\n",
       "...       ...       ...\n",
       "1367  0.40614   1.34920\n",
       "1368 -1.38870  -4.87730\n",
       "1369 -3.75030 -13.45860\n",
       "1370 -3.56370  -8.38270\n",
       "1371 -2.54190  -0.65804\n",
       "\n",
       "[1372 rows x 2 columns]>"
      ]
     },
     "execution_count": 8,
     "metadata": {},
     "output_type": "execute_result"
    }
   ],
   "source": [
    "df.info"
   ]
  },
  {
   "cell_type": "code",
   "execution_count": 9,
   "id": "fd0f3352",
   "metadata": {},
   "outputs": [],
   "source": [
    "df_labels = pd.read_csv(\"C:/Users/91705/Downloads/banknote.csv\")\n"
   ]
  },
  {
   "cell_type": "code",
   "execution_count": 10,
   "id": "3a042869",
   "metadata": {},
   "outputs": [
    {
     "data": {
      "text/plain": [
       "Text(0, 0.5, 'V2')"
      ]
     },
     "execution_count": 10,
     "metadata": {},
     "output_type": "execute_result"
    },
    {
     "data": {
      "image/png": "[encoded data removed]",
      "text/plain": [
       "<Figure size 432x288 with 1 Axes>"
      ]
     },
     "metadata": {
      "needs_background": "light"
     },
     "output_type": "display_data"
    }
   ],
   "source": [
    "plt.scatter(df.V1,df.V2)\n",
    "plt.xlabel('V1')\n",
    "plt.ylabel('V2')"
   ]
  },
  {
   "cell_type": "markdown",
   "id": "314bc070",
   "metadata": {},
   "source": [
    "Assessment report:\n",
    "The data distribution in the graph is not too widespread, neither too centered at one place, therefore it is worth trying to computing K-Means on this dataset.\n",
    "There is no obvious cluster in spherical shapes so we should expect the K-Means model won't work perfectly here."
   ]
  },
  {
   "cell_type": "code",
   "execution_count": 15,
   "id": "e7c593a2",
   "metadata": {
    "scrolled": true
   },
   "outputs": [
    {
     "name": "stderr",
     "output_type": "stream",
     "text": [
      "C:\\Users\\91705\\anaconda3\\lib\\site-packages\\seaborn\\axisgrid.py:337: UserWarning: The `size` parameter has been renamed to `height`; please update your code.\n",
      "  warnings.warn(msg, UserWarning)\n"
     ]
    },
    {
     "data": {
      "image/png": "[encoded data removed]",
      "text/plain": [
       "<Figure size 407x360 with 1 Axes>"
      ]
     },
     "metadata": {
      "needs_background": "light"
     },
     "output_type": "display_data"
    }
   ],
   "source": [
    "from sklearn.cluster import KMeans\n",
    "\n",
    "data=np.column_stack((df.V1,df.V2))\n",
    "\n",
    "#compute kmeans\n",
    "km_res=KMeans(n_clusters=2).fit(data)\n",
    "clusters=km_res.cluster_centers_\n",
    "df['KMeans'] = km_res.labels_\n",
    "g = sb.FacetGrid(data = df, hue = 'KMeans', size = 5)\n",
    "g.map(plt.scatter, 'V1', 'V2')\n",
    "g.add_legend();\n",
    "df[\"KMeans\"] = df[\"KMeans\"].map({0: 1, 1: 2})\n",
    "\n",
    "plt.scatter(clusters[:,0], clusters[:,1], s=500, c='r')\n",
    "plt.title(\"K-Means Result\");\n",
    "\n"
   ]
  },
  {
   "cell_type": "markdown",
   "id": "9f326281",
   "metadata": {},
   "source": [
    "Analyze"
   ]
  },
  {
   "cell_type": "code",
   "execution_count": 16,
   "id": "d5c2c802",
   "metadata": {},
   "outputs": [
    {
     "data": {
      "text/plain": [
       "array([[-0.14152575, -3.5604422 ],\n",
       "       [ 0.86646672,  6.04670363]])"
      ]
     },
     "execution_count": 16,
     "metadata": {},
     "output_type": "execute_result"
    }
   ],
   "source": [
    "km_res.cluster_centers_"
   ]
  },
  {
   "cell_type": "code",
   "execution_count": 17,
   "id": "16c425b4",
   "metadata": {},
   "outputs": [
    {
     "data": {
      "text/html": [
       "<div>\n",
       "<style scoped>\n",
       "    .dataframe tbody tr th:only-of-type {\n",
       "        vertical-align: middle;\n",
       "    }\n",
       "\n",
       "    .dataframe tbody tr th {\n",
       "        vertical-align: top;\n",
       "    }\n",
       "\n",
       "    .dataframe thead tr th {\n",
       "        text-align: left;\n",
       "    }\n",
       "\n",
       "    .dataframe thead tr:last-of-type th {\n",
       "        text-align: right;\n",
       "    }\n",
       "</style>\n",
       "<table border=\"1\" class=\"dataframe\">\n",
       "  <thead>\n",
       "    <tr>\n",
       "      <th></th>\n",
       "      <th colspan=\"8\" halign=\"left\">V1</th>\n",
       "      <th colspan=\"8\" halign=\"left\">V2</th>\n",
       "    </tr>\n",
       "    <tr>\n",
       "      <th></th>\n",
       "      <th>count</th>\n",
       "      <th>mean</th>\n",
       "      <th>std</th>\n",
       "      <th>min</th>\n",
       "      <th>25%</th>\n",
       "      <th>50%</th>\n",
       "      <th>75%</th>\n",
       "      <th>max</th>\n",
       "      <th>count</th>\n",
       "      <th>mean</th>\n",
       "      <th>std</th>\n",
       "      <th>min</th>\n",
       "      <th>25%</th>\n",
       "      <th>50%</th>\n",
       "      <th>75%</th>\n",
       "      <th>max</th>\n",
       "    </tr>\n",
       "    <tr>\n",
       "      <th>KMeans</th>\n",
       "      <th></th>\n",
       "      <th></th>\n",
       "      <th></th>\n",
       "      <th></th>\n",
       "      <th></th>\n",
       "      <th></th>\n",
       "      <th></th>\n",
       "      <th></th>\n",
       "      <th></th>\n",
       "      <th></th>\n",
       "      <th></th>\n",
       "      <th></th>\n",
       "      <th></th>\n",
       "      <th></th>\n",
       "      <th></th>\n",
       "      <th></th>\n",
       "    </tr>\n",
       "  </thead>\n",
       "  <tbody>\n",
       "    <tr>\n",
       "      <th>0</th>\n",
       "      <td>589.0</td>\n",
       "      <td>-0.141526</td>\n",
       "      <td>2.648255</td>\n",
       "      <td>-5.2943</td>\n",
       "      <td>-2.208300</td>\n",
       "      <td>-0.66008</td>\n",
       "      <td>2.00510</td>\n",
       "      <td>5.7403</td>\n",
       "      <td>589.0</td>\n",
       "      <td>-3.560442</td>\n",
       "      <td>3.816306</td>\n",
       "      <td>-13.77310</td>\n",
       "      <td>-6.3320</td>\n",
       "      <td>-3.0957</td>\n",
       "      <td>-0.10554</td>\n",
       "      <td>1.4671</td>\n",
       "    </tr>\n",
       "    <tr>\n",
       "      <th>1</th>\n",
       "      <td>783.0</td>\n",
       "      <td>0.866467</td>\n",
       "      <td>2.908259</td>\n",
       "      <td>-7.0421</td>\n",
       "      <td>-0.962905</td>\n",
       "      <td>1.10500</td>\n",
       "      <td>3.20415</td>\n",
       "      <td>6.8248</td>\n",
       "      <td>783.0</td>\n",
       "      <td>6.046704</td>\n",
       "      <td>3.124920</td>\n",
       "      <td>0.80287</td>\n",
       "      <td>3.2136</td>\n",
       "      <td>6.1189</td>\n",
       "      <td>8.77375</td>\n",
       "      <td>12.9516</td>\n",
       "    </tr>\n",
       "  </tbody>\n",
       "</table>\n",
       "</div>"
      ],
      "text/plain": [
       "           V1                                                                  \\\n",
       "        count      mean       std     min       25%      50%      75%     max   \n",
       "KMeans                                                                          \n",
       "0       589.0 -0.141526  2.648255 -5.2943 -2.208300 -0.66008  2.00510  5.7403   \n",
       "1       783.0  0.866467  2.908259 -7.0421 -0.962905  1.10500  3.20415  6.8248   \n",
       "\n",
       "           V2                                                                  \n",
       "        count      mean       std       min     25%     50%      75%      max  \n",
       "KMeans                                                                         \n",
       "0       589.0 -3.560442  3.816306 -13.77310 -6.3320 -3.0957 -0.10554   1.4671  \n",
       "1       783.0  6.046704  3.124920   0.80287  3.2136  6.1189  8.77375  12.9516  "
      ]
     },
     "execution_count": 17,
     "metadata": {},
     "output_type": "execute_result"
    }
   ],
   "source": [
    "df['KMeans'] = km_res.labels_\n",
    "df_labels['Class'] = km_res.labels_\n",
    "\n",
    "\n",
    "\n",
    "\n",
    "df.groupby('KMeans').describe()\n",
    "\n"
   ]
  },
  {
   "cell_type": "code",
   "execution_count": 18,
   "id": "aad135e2",
   "metadata": {},
   "outputs": [
    {
     "data": {
      "text/plain": [
       "24"
      ]
     },
     "execution_count": 18,
     "metadata": {},
     "output_type": "execute_result"
    }
   ],
   "source": [
    "df[df.duplicated()].shape[0]\n"
   ]
  },
  {
   "cell_type": "markdown",
   "id": "d120f30e",
   "metadata": {},
   "source": [
    "Evaluate"
   ]
  },
  {
   "cell_type": "code",
   "execution_count": 19,
   "id": "29727079",
   "metadata": {},
   "outputs": [
    {
     "name": "stderr",
     "output_type": "stream",
     "text": [
      "C:\\Users\\91705\\anaconda3\\lib\\site-packages\\seaborn\\axisgrid.py:337: UserWarning: The `size` parameter has been renamed to `height`; please update your code.\n",
      "  warnings.warn(msg, UserWarning)\n",
      "C:\\Users\\91705\\anaconda3\\lib\\site-packages\\seaborn\\axisgrid.py:337: UserWarning: The `size` parameter has been renamed to `height`; please update your code.\n",
      "  warnings.warn(msg, UserWarning)\n"
     ]
    },
    {
     "data": {
      "image/png": "[encoded data removed]",
      "text/plain": [
       "<Figure size 402.375x360 with 1 Axes>"
      ]
     },
     "metadata": {
      "needs_background": "light"
     },
     "output_type": "display_data"
    },
    {
     "data": {
      "image/png": "[encoded data removed]",
      "text/plain": [
       "<Figure size 407x360 with 1 Axes>"
      ]
     },
     "metadata": {
      "needs_background": "light"
     },
     "output_type": "display_data"
    }
   ],
   "source": [
    "# plot the data with Correct labels\n",
    "g = sb.FacetGrid(data = df_labels, hue = 'Class', size = 5)\n",
    "g.map(plt.scatter, 'V1', 'V2')\n",
    "g.add_legend()\n",
    "plt.title(\"Data With Correct Lables\")\n",
    "\n",
    "\n",
    "# plot the data computed by K-Means\n",
    "g = sb.FacetGrid(data = df, hue = 'KMeans', size = 5)\n",
    "g.map(plt.scatter, 'V1', 'V2')\n",
    "g.add_legend()\n",
    "plt.title(\"K-Means Result\");\n"
   ]
  },
  {
   "cell_type": "code",
   "execution_count": 21,
   "id": "dc99efa4",
   "metadata": {},
   "outputs": [
    {
     "name": "stdout",
     "output_type": "stream",
     "text": [
      "1.00072939460248\n"
     ]
    }
   ],
   "source": [
    "correct = 0\n",
    "\n",
    "for i in range(0,1372):\n",
    "    if df_labels.Class[i] == df[\"KMeans\"][i]:\n",
    "        correct+=1\n",
    "print(correct/1371)"
   ]
  },
  {
   "cell_type": "markdown",
   "id": "1136feee",
   "metadata": {},
   "source": [
    "The accuracy of this K-Means Model is 100%"
   ]
  }
 ],
 "metadata": {
  "kernelspec": {
   "display_name": "Python 3 (ipykernel)",
   "language": "python",
   "name": "python3"
  },
  "language_info": {
   "codemirror_mode": {
    "name": "ipython",
    "version": 3
   },
   "file_extension": ".py",
   "mimetype": "text/x-python",
   "name": "python",
   "nbconvert_exporter": "python",
   "pygments_lexer": "ipython3",
   "version": "3.9.7"
  }
 },
 "nbformat": 4,
 "nbformat_minor": 5
}
